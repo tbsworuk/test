{
  "nbformat": 4,
  "nbformat_minor": 0,
  "metadata": {
    "kernelspec": {
      "display_name": "Python 3",
      "language": "python",
      "name": "python3"
    },
    "language_info": {
      "codemirror_mode": {
        "name": "ipython",
        "version": 3
      },
      "file_extension": ".py",
      "mimetype": "text/x-python",
      "name": "python",
      "nbconvert_exporter": "python",
      "pygments_lexer": "ipython3",
      "version": "3.7.1"
    },
    "colab": {
      "name": "basics.ipynb",
      "provenance": [],
      "include_colab_link": true
    }
  },
  "cells": [
    {
      "cell_type": "markdown",
      "metadata": {
        "id": "view-in-github",
        "colab_type": "text"
      },
      "source": [
        "<a href=\"https://colab.research.google.com/github/tbsworuk/test/blob/master/basics.ipynb\" target=\"_parent\"><img src=\"https://colab.research.google.com/assets/colab-badge.svg\" alt=\"Open In Colab\"/></a>"
      ]
    },
    {
      "cell_type": "markdown",
      "metadata": {
        "id": "g6NLEdnTZDB-",
        "colab_type": "text"
      },
      "source": [
        "# Variables\n",
        "## Assignment\n",
        "\n",
        "`Try this` examples\n",
        "\n",
        "Try running the following scripts with different values of `numberWidgets`:"
      ]
    },
    {
      "cell_type": "code",
      "metadata": {
        "id": "85Hv9PEMZDCA",
        "colab_type": "code",
        "outputId": "7e4740e8-8d12-4e78-f430-687d4681ae86",
        "colab": {
          "base_uri": "https://localhost:8080/",
          "height": 34
        }
      },
      "source": [
        "number_widgets = 1\n",
        "sum = number_widgets + 3\n",
        "print(sum)"
      ],
      "execution_count": 0,
      "outputs": [
        {
          "output_type": "stream",
          "text": [
            "4\n"
          ],
          "name": "stdout"
        }
      ]
    },
    {
      "cell_type": "code",
      "metadata": {
        "id": "Q6tdwnblZDCE",
        "colab_type": "code",
        "colab": {}
      },
      "source": [
        "number_widgets = 1\n",
        "sum = number_widgets + 3\n",
        "too_many = sum > 10\n",
        "print(too_many)"
      ],
      "execution_count": 0,
      "outputs": []
    },
    {
      "cell_type": "markdown",
      "metadata": {
        "id": "gfnGbqIfZDCH",
        "colab_type": "text"
      },
      "source": [
        "How do these two scripts differ? (Pay attention to the quotes)"
      ]
    },
    {
      "cell_type": "code",
      "metadata": {
        "id": "tZ7l4gPiZDCH",
        "colab_type": "code",
        "colab": {}
      },
      "source": [
        "first_number = 325\n",
        "second_number = 145\n",
        "together = first_number + second_number\n",
        "print(together)\n",
        "print(type(together))"
      ],
      "execution_count": 0,
      "outputs": []
    },
    {
      "cell_type": "code",
      "metadata": {
        "id": "gmW3b02_ZDCK",
        "colab_type": "code",
        "colab": {}
      },
      "source": [
        "first_number = '325'\n",
        "second_number = '145'\n",
        "together = first_number + second_number\n",
        "print(together)\n",
        "print(type(together))"
      ],
      "execution_count": 0,
      "outputs": []
    },
    {
      "cell_type": "markdown",
      "metadata": {
        "id": "X6E9bsB2ZDCO",
        "colab_type": "text"
      },
      "source": [
        "# Functions\n",
        "# Built-in functions\n",
        "\n",
        "`Try this` examples\n",
        "\n",
        "Try the following script with different values for the numbers:"
      ]
    },
    {
      "cell_type": "code",
      "metadata": {
        "id": "iOGRGaixZDCP",
        "colab_type": "code",
        "colab": {}
      },
      "source": [
        "first_number = 50\n",
        "second_number = 67\n",
        "biggest = max(first_number, second_number, 100)\n",
        "print(biggest)"
      ],
      "execution_count": 0,
      "outputs": []
    },
    {
      "cell_type": "markdown",
      "metadata": {
        "id": "icOrK_xGZDCR",
        "colab_type": "text"
      },
      "source": [
        "In the following script, try changing the value of `name`:"
      ]
    },
    {
      "cell_type": "code",
      "metadata": {
        "id": "6D0VQ0dvZDCS",
        "colab_type": "code",
        "colab": {}
      },
      "source": [
        "name = 'Steve'\n",
        "how_long = len(name)\n",
        "print('Your name is '+ name + '. It is: ')\n",
        "print(how_long)\n",
        "print('characters long.')"
      ],
      "execution_count": 0,
      "outputs": []
    },
    {
      "cell_type": "markdown",
      "metadata": {
        "id": "wCGy8730ZDCW",
        "colab_type": "text"
      },
      "source": [
        "## Home-made function example"
      ]
    },
    {
      "cell_type": "code",
      "metadata": {
        "id": "oLHOYyHRZDCX",
        "colab_type": "code",
        "colab": {}
      },
      "source": [
        "def multiplication(first_number, second_number):\n",
        "    answer = first_number * second_number\n",
        "    return answer\n",
        "\n",
        "print(multiplication(3,5))"
      ],
      "execution_count": 0,
      "outputs": []
    },
    {
      "cell_type": "markdown",
      "metadata": {
        "id": "jtp3FI3CZDCZ",
        "colab_type": "text"
      },
      "source": [
        "Here is a variation on the previous script:"
      ]
    },
    {
      "cell_type": "code",
      "metadata": {
        "id": "IaGF94bXZDCa",
        "colab_type": "code",
        "colab": {}
      },
      "source": [
        "def multiplication(first_number, second_number):\n",
        "    answer = first_number * second_number\n",
        "    return answer\n",
        "\n",
        "num1 = 3\n",
        "num2 = 5\n",
        "answer = multiplication(num1,num2)\n",
        "print(answer)"
      ],
      "execution_count": 0,
      "outputs": []
    },
    {
      "cell_type": "markdown",
      "metadata": {
        "id": "z7p-3kFLZDCd",
        "colab_type": "text"
      },
      "source": [
        "# Modules and Packages\n",
        "\n",
        "Here is a fun example using the standard random module:"
      ]
    },
    {
      "cell_type": "code",
      "metadata": {
        "id": "qNyWbRH0ZDCe",
        "colab_type": "code",
        "colab": {}
      },
      "source": [
        "import random\n",
        "\n",
        "day_list = ['Sunday', 'Monday', 'Tuesday', 'Wednesday', 'Thursday', 'Friday', 'Saturday']\n",
        "x = random.choice(day_list)\n",
        "\n",
        "print(x)"
      ],
      "execution_count": 0,
      "outputs": []
    },
    {
      "cell_type": "markdown",
      "metadata": {
        "id": "cWM9RxmcZDCh",
        "colab_type": "text"
      },
      "source": [
        "Here’s another example you can try:"
      ]
    },
    {
      "cell_type": "code",
      "metadata": {
        "id": "iraECKEJZDCh",
        "colab_type": "code",
        "colab": {}
      },
      "source": [
        "import math as m\n",
        "\n",
        "number = 113\n",
        "square_root = m.sqrt(number)\n",
        "print(square_root)\n",
        "integer = m.floor(square_root)\n",
        "print(integer)"
      ],
      "execution_count": 0,
      "outputs": []
    },
    {
      "cell_type": "markdown",
      "metadata": {
        "id": "y7JitHNuZDCk",
        "colab_type": "text"
      },
      "source": [
        "# Keyboard Input\n",
        "\n",
        "Input function example:"
      ]
    },
    {
      "cell_type": "code",
      "metadata": {
        "id": "3BhL0PQ0ZDCl",
        "colab_type": "code",
        "colab": {}
      },
      "source": [
        "name = input(\"What's your name? \")\n",
        "print('Hello ' + name + '! How are you?')"
      ],
      "execution_count": 0,
      "outputs": []
    },
    {
      "cell_type": "code",
      "metadata": {
        "id": "eVLQuKbjZDCn",
        "colab_type": "code",
        "colab": {}
      },
      "source": [
        "# import the math module  \n",
        "import math  \n",
        "\n",
        "integer = int(input(\"What's the number? \"))\n",
        "print('The square root is:')\n",
        "print(math.sqrt(integer))"
      ],
      "execution_count": 0,
      "outputs": []
    },
    {
      "cell_type": "markdown",
      "metadata": {
        "id": "jOeezGo6ZDCq",
        "colab_type": "text"
      },
      "source": [
        "# Conditional execution\n",
        "\n",
        "## if statement\n",
        "\n",
        "Example:"
      ]
    },
    {
      "cell_type": "code",
      "metadata": {
        "id": "h0G1BvONZDCr",
        "colab_type": "code",
        "colab": {}
      },
      "source": [
        "name = 'Fred Flintstone'\n",
        "is_micky = name == 'Mickey Mouse'\n",
        "print(name)\n",
        "print(is_micky)\n",
        "\n",
        "if is_micky:\n",
        "    print('You are a Disney character')\n",
        "print('That is all!')"
      ],
      "execution_count": 0,
      "outputs": []
    },
    {
      "cell_type": "markdown",
      "metadata": {
        "id": "CD-x53xFZDCu",
        "colab_type": "text"
      },
      "source": [
        "`Try this` example:"
      ]
    },
    {
      "cell_type": "code",
      "metadata": {
        "id": "OEBzsVvSZDCv",
        "colab_type": "code",
        "colab": {}
      },
      "source": [
        "name = input('What is the name of the character? ')\n",
        "is_micky = name == 'Mickey Mouse'\n",
        "print(name)\n",
        "print(is_micky)\n",
        "\n",
        "if is_micky:\n",
        "    print('You are a Disney character')\n",
        "print('That is all!')"
      ],
      "execution_count": 0,
      "outputs": []
    },
    {
      "cell_type": "markdown",
      "metadata": {
        "id": "uD8IacohZDCx",
        "colab_type": "text"
      },
      "source": [
        "Previous example with simplified code"
      ]
    },
    {
      "cell_type": "code",
      "metadata": {
        "id": "CKkVJEt7ZDCy",
        "colab_type": "code",
        "colab": {}
      },
      "source": [
        "name = input('What is the name of the character? ')\n",
        "print(name)\n",
        "\n",
        "if name == 'Mickey Mouse':\n",
        "    print('You are a Disney character')\n",
        "print('That is all!')"
      ],
      "execution_count": 0,
      "outputs": []
    },
    {
      "cell_type": "markdown",
      "metadata": {
        "id": "At9URkQiZDC0",
        "colab_type": "text"
      },
      "source": [
        "## if … else …\n",
        "\n",
        "Example:"
      ]
    },
    {
      "cell_type": "code",
      "metadata": {
        "id": "LQtN0yIsZDC1",
        "colab_type": "code",
        "colab": {}
      },
      "source": [
        "name = input('What is the name of the character? ')\n",
        "print(name)\n",
        "\n",
        "if name == 'Mickey Mouse':\n",
        "    print('You are a Disney character')\n",
        "    print('You are almost ready to go out of copyright!')\n",
        "else:\n",
        "    print('You are not a Disney character')\n",
        "print('That is all?')"
      ],
      "execution_count": 0,
      "outputs": []
    },
    {
      "cell_type": "markdown",
      "metadata": {
        "id": "csYPgP1XZDC3",
        "colab_type": "text"
      },
      "source": [
        "## if … elif … else …\n",
        "\n",
        "Example:"
      ]
    },
    {
      "cell_type": "code",
      "metadata": {
        "id": "IHdXsWIsZDC4",
        "colab_type": "code",
        "colab": {}
      },
      "source": [
        "name = input('What is the name of the character? ')\n",
        "print(name)\n",
        "\n",
        "if name == 'Mickey Mouse':\n",
        "    print('You are a Disney character')\n",
        "    print('You are a mouse')\n",
        "elif name == 'Donald Duck':\n",
        "    print('You are a Disney character')\n",
        "    print('You are not a mouse')\n",
        "elif name == 'Minnie Mouse':\n",
        "    print('You are a Disney character')\n",
        "    print('Your boyfriend is getting old')\n",
        "else:\n",
        "    print('You are not a Disney character')\n",
        "print(\"That's all folks!\")"
      ],
      "execution_count": 0,
      "outputs": []
    },
    {
      "cell_type": "code",
      "metadata": {
        "id": "wRlqQ37RZDC6",
        "colab_type": "code",
        "colab": {}
      },
      "source": [
        ""
      ],
      "execution_count": 0,
      "outputs": []
    }
  ]
}