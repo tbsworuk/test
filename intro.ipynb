{
  "nbformat": 4,
  "nbformat_minor": 0,
  "metadata": {
    "kernelspec": {
      "display_name": "Python 3",
      "language": "python",
      "name": "python3"
    },
    "language_info": {
      "codemirror_mode": {
        "name": "ipython",
        "version": 3
      },
      "file_extension": ".py",
      "mimetype": "text/x-python",
      "name": "python",
      "nbconvert_exporter": "python",
      "pygments_lexer": "ipython3",
      "version": "3.7.1"
    },
    "colab": {
      "name": "intro.ipynb",
      "provenance": [],
      "include_colab_link": true
    }
  },
  "cells": [
    {
      "cell_type": "markdown",
      "metadata": {
        "id": "view-in-github",
        "colab_type": "text"
      },
      "source": [
        "<a href=\"https://colab.research.google.com/github/tbsworuk/test/blob/master/intro.ipynb\" target=\"_parent\"><img src=\"https://colab.research.google.com/assets/colab-badge.svg\" alt=\"Open In Colab\"/></a>"
      ]
    },
    {
      "cell_type": "markdown",
      "metadata": {
        "id": "HuoQ2RF-oC3q",
        "colab_type": "text"
      },
      "source": [
        "# Simple script to input, calculate, and output\n",
        "\n",
        "Note: in Jupyter notebooks, we can make comments in Markdown cells.  So making inline comments (lines that start with the hash character # and are ignored by Python) is less important.  \n",
        "\n",
        "Here we set up the data needed to run the calculation"
      ]
    },
    {
      "cell_type": "code",
      "metadata": {
        "id": "iqkXcjRUoC3t",
        "colab_type": "code",
        "outputId": "a5e5ea35-ace3-4714-ebb1-d78446367e87",
        "colab": {
          "base_uri": "https://localhost:8080/",
          "height": 68
        }
      },
      "source": [
        "# This is an inline comment that will be ignored by Python\n",
        "pi = 3.14159\n",
        "print(pi)\n",
        "diameter = float(input('Enter the diameter: '))  # when this line runs you need to enter a number\n",
        "print(diameter)"
      ],
      "execution_count": 0,
      "outputs": [
        {
          "output_type": "stream",
          "text": [
            "3.14159\n",
            "Enter the diameter: 9\n",
            "9.0\n"
          ],
          "name": "stdout"
        }
      ]
    },
    {
      "cell_type": "markdown",
      "metadata": {
        "id": "53OfadBeoC3x",
        "colab_type": "text"
      },
      "source": [
        "The data need to be transformed into a usable form"
      ]
    },
    {
      "cell_type": "code",
      "metadata": {
        "id": "YLdU4GzvoC3y",
        "colab_type": "code",
        "outputId": "dad88e2b-3114-41c6-873d-0eb4691ff57f",
        "colab": {
          "base_uri": "https://localhost:8080/",
          "height": 34
        }
      },
      "source": [
        "radius = diameter/2\n",
        "print(radius)"
      ],
      "execution_count": 0,
      "outputs": [
        {
          "output_type": "stream",
          "text": [
            "4.5\n"
          ],
          "name": "stdout"
        }
      ]
    },
    {
      "cell_type": "markdown",
      "metadata": {
        "id": "uC8Go2fmoC31",
        "colab_type": "text"
      },
      "source": [
        "We have all of the information necessary to complete the calculation"
      ]
    },
    {
      "cell_type": "code",
      "metadata": {
        "id": "1xYdlG_0oC32",
        "colab_type": "code",
        "outputId": "aa938903-2db7-4a24-a612-8a4058ffc412",
        "colab": {
          "base_uri": "https://localhost:8080/",
          "height": 34
        }
      },
      "source": [
        "print('The area of the circle is ',pi*radius**2)"
      ],
      "execution_count": 0,
      "outputs": [
        {
          "output_type": "stream",
          "text": [
            "The area of the circle is  63.617197499999996\n"
          ],
          "name": "stdout"
        }
      ]
    },
    {
      "cell_type": "markdown",
      "metadata": {
        "id": "TDiVXiWIoC34",
        "colab_type": "text"
      },
      "source": [
        "# Playing with Nashville schools data"
      ]
    },
    {
      "cell_type": "code",
      "metadata": {
        "id": "vS32VIm9oC35",
        "colab_type": "code",
        "colab": {}
      },
      "source": [
        "# import two necessary modules\n",
        "import csv\n",
        "import urllib.request\n",
        "\n",
        "# load a CSV file with data on Nashville schools from the Internet\n",
        "url = 'https://raw.githubusercontent.com/HeardLibrary/digital-scholarship/master/data/gis/wg/Metro_Nashville_Schools.csv'\n",
        "response = urllib.request.urlopen(url).read().decode('utf-8')\n",
        "fileText = response.split('\\n')\n",
        "\n",
        "# remove empty final line\n",
        "if fileText[len(fileText)-1] == '':\n",
        "    fileText = fileText[0:len(fileText)-1]\n",
        "\n",
        "# turn the data into a table\n",
        "fileRows = csv.reader(fileText)\n",
        "schoolData = []\n",
        "for row in fileRows:\n",
        "    schoolData.append(row)\n",
        "    \n",
        "# Show the header and first row of the table\n",
        "print(schoolData[0])\n",
        "print(schoolData[1])"
      ],
      "execution_count": 0,
      "outputs": []
    },
    {
      "cell_type": "code",
      "metadata": {
        "id": "ffjX_Q1SoC38",
        "colab_type": "code",
        "colab": {}
      },
      "source": [
        "# print the IDs and names of all of the schools\n",
        "print(schoolData[0][2] + '\\t' + schoolData[0][3])\n",
        "for school in range(1, len(schoolData)):\n",
        "    print(schoolData[school][2] + '\\t' + schoolData[school][3])"
      ],
      "execution_count": 0,
      "outputs": []
    },
    {
      "cell_type": "code",
      "metadata": {
        "id": "DKNBJbwFoC3_",
        "colab_type": "code",
        "colab": {}
      },
      "source": [
        "# calculate the total number of students per school and fraction white students for each row\n",
        "schoolData[0].append('total students')\n",
        "schoolData[0].append('fraction white')\n",
        "for school in range(1, len(schoolData)):\n",
        "    totalStudents = int(schoolData[school][27]) + int(schoolData[school][28])\n",
        "    fractionWhite = int(schoolData[school][26]) / totalStudents\n",
        "    schoolData[school].append(str(totalStudents))\n",
        "    schoolData[school].append(str(fractionWhite))\n",
        "\n",
        "# save the data as a spreadsheet\n",
        "fileObject = open('school-data.csv', 'w', newline='', encoding='utf-8')\n",
        "writerObject = csv.writer(fileObject)\n",
        "for row in schoolData:\n",
        "    writerObject.writerow(row)\n",
        "fileObject.close()\n",
        "\n",
        "print('Finished writing the CSV spreadsheet file')"
      ],
      "execution_count": 0,
      "outputs": []
    },
    {
      "cell_type": "code",
      "metadata": {
        "id": "36yK98x9oC4B",
        "colab_type": "code",
        "colab": {}
      },
      "source": [
        ""
      ],
      "execution_count": 0,
      "outputs": []
    }
  ]
}